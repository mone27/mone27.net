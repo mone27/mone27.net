{
 "cells": [
  {
   "cell_type": "markdown",
   "metadata": {},
   "source": [
    "# Homepage"
   ]
  },
  {
   "cell_type": "code",
   "execution_count": 17,
   "metadata": {},
   "outputs": [],
   "source": [
    "#| default_exp home"
   ]
  },
  {
   "cell_type": "code",
   "execution_count": 1,
   "metadata": {},
   "outputs": [],
   "source": [
    "#| export\n",
    "from fasthtml.common import *\n",
    "from fasthtml.jupyter import *\n",
    "from pyprojroot import here\n",
    "from fastcore.all import L\n",
    "from mone27.core import *"
   ]
  },
  {
   "cell_type": "code",
   "execution_count": 2,
   "metadata": {},
   "outputs": [],
   "source": [
    "#| export\n",
    "def blog_box(title, content, max_len=120):\n",
    "    excerpt = content[:max_len] + '...' if len(content) > max_len else content\n",
    "    return Div(\n",
    "        Markdown(excerpt),\n",
    "        Button(\"Read more\", onclick=f\"location.href='/blog/{title}'\"),\n",
    "        style = \"border: 2px solid white; padding: 10px; border-radius: 10px;\"\n",
    "    ) \n"
   ]
  },
  {
   "cell_type": "code",
   "execution_count": 3,
   "metadata": {},
   "outputs": [],
   "source": [
    "# @patch\n",
    "# def _repr_html_(self: fastcore.xml.FT):\n",
    "#     return self.__html__()"
   ]
  },
  {
   "cell_type": "code",
   "execution_count": 4,
   "metadata": {},
   "outputs": [
    {
     "data": {
      "text/markdown": [
       "```html\n",
       "<div style=\"border: 2px solid white; padding: 10px; border-radius: 10px;\">\n",
       "  <div class=\"markded\">Excerpt</div>\n",
       "<button onclick=\"location.href='/Title'\">Read more</button></div>\n",
       "\n",
       "```"
      ],
      "text/plain": [
       "div((div(('Excerpt',),{'class': 'markded'}), button(('Read more',),{'onclick': \"location.href='/Title'\"})),{'style': 'border: 2px solid white; padding: 10px; border-radius: 10px;'})"
      ]
     },
     "execution_count": 4,
     "metadata": {},
     "output_type": "execute_result"
    }
   ],
   "source": [
    "blog_box(\"Title\", \"Excerpt\")"
   ]
  },
  {
   "cell_type": "code",
   "execution_count": 5,
   "metadata": {},
   "outputs": [],
   "source": [
    "#| export\n",
    "def get_blogs():\n",
    "    posts = here('posts').ls()\n",
    "    titles = posts.map(Self.stem())\n",
    "    contents = posts.map(Self.read_text())\n",
    "    return titles.zipwith(contents)"
   ]
  },
  {
   "cell_type": "code",
   "execution_count": 6,
   "metadata": {},
   "outputs": [
    {
     "data": {
      "text/plain": [
       "(#2) [('welcome-to-blog', '# Welcome to the blog\\n\\nWell this is just a first post to welcome you to the blog!\\n\\ncheck [about this blog](/about-this-blog)'),('about-this-blog', \"# FastHTML and this blog\\n\\nthis blog is made using FastHTML, because why not?\\n\\nFastHTML is very simple to start a website and is a good excuse to learn something new.\\nMoreover in the future I can always add interactivity if I want to, but still serve simple HTML pages.\\n\\n## Why FastHTML?\\n\\nwell the simplicity and the speed of development are just amazing!\\nI can't recall the last time where I had so much fun developing a website!\\nI mean I can write components in a Jupyter notebook, test them and play with them interactively and then I have a website!\")]"
      ]
     },
     "execution_count": 6,
     "metadata": {},
     "output_type": "execute_result"
    }
   ],
   "source": [
    "blogs = get_blogs()\n",
    "blogs"
   ]
  },
  {
   "cell_type": "code",
   "execution_count": 7,
   "metadata": {},
   "outputs": [
    {
     "data": {
      "text/markdown": [
       "```html\n",
       "<div style=\"border: 2px solid white; padding: 10px; border-radius: 10px;\">\n",
       "  <div class=\"markded\"># Welcome to the blog\n",
       "\n",
       "Well this is just a first post to welcome you to the blog!\n",
       "\n",
       "check [about this blog](/about-this-b...</div>\n",
       "<button onclick=\"location.href='/welcome-to-blog'\">Read more</button></div>\n",
       "\n",
       "```"
      ],
      "text/plain": [
       "div((div(('# Welcome to the blog\\n\\nWell this is just a first post to welcome you to the blog!\\n\\ncheck [about this blog](/about-this-b...',),{'class': 'markded'}), button(('Read more',),{'onclick': \"location.href='/welcome-to-blog'\"})),{'style': 'border: 2px solid white; padding: 10px; border-radius: 10px;'})"
      ]
     },
     "execution_count": 7,
     "metadata": {},
     "output_type": "execute_result"
    }
   ],
   "source": [
    "blog_box(blogs[0][0], blogs[0][1])"
   ]
  }
 ],
 "metadata": {
  "kernelspec": {
   "display_name": "python3",
   "language": "python",
   "name": "python3"
  },
  "language_info": {
   "codemirror_mode": {
    "name": "ipython",
    "version": 3
   },
   "file_extension": ".py",
   "mimetype": "text/x-python",
   "name": "python",
   "nbconvert_exporter": "python",
   "pygments_lexer": "ipython3",
   "version": "3.12.6"
  }
 },
 "nbformat": 4,
 "nbformat_minor": 4
}
